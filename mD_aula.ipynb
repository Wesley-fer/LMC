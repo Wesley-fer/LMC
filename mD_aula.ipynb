{
  "nbformat": 4,
  "nbformat_minor": 0,
  "metadata": {
    "colab": {
      "provenance": [],
      "authorship_tag": "ABX9TyNRH4QkRHdIep/6dBsaA3aH",
      "include_colab_link": true
    },
    "kernelspec": {
      "name": "python3",
      "display_name": "Python 3"
    },
    "language_info": {
      "name": "python"
    }
  },
  "cells": [
    {
      "cell_type": "markdown",
      "metadata": {
        "id": "view-in-github",
        "colab_type": "text"
      },
      "source": [
        "<a href=\"https://colab.research.google.com/github/Wesley-fer/LMC/blob/main/mD_aula.ipynb\" target=\"_parent\"><img src=\"https://colab.research.google.com/assets/colab-badge.svg\" alt=\"Open In Colab\"/></a>"
      ]
    },
    {
      "cell_type": "code",
      "source": [
        "# Este código não está nas fontes fornecidas, é uma demonstração de como os conceitos\n",
        "# podem ser representados em Python para fins didáticos no Colab.\n",
        "\n",
        "# Representação conceitual da entidade Aluno\n",
        "alunos = [\n",
        "    {\"matricula_aluno\": \"2023001\", \"nome\": \"João Silva\", \"endereco\": \"Rua A, 123\", \"email\": \"joao.s@email.com\", \"telefone\": \"99123-4567\", \"dt_nasc\": \"2005-01-15\", \"foto\": \"caminho/foto_joao.jpg\"},\n",
        "    {\"matricula_aluno\": \"2023002\", \"nome\": \"Maria Souza\", \"endereco\": \"Av. B, 456\", \"email\": \"maria.s@email.com\", \"telefone\": \"99876-5432\", \"dt_nasc\": \"2004-03-20\", \"foto\": \"caminho/foto_maria.jpg\"},\n",
        "    {\"matricula_aluno\": \"2023003\", \"nome\": \"Pedro Costa\", \"endereco\": \"Rua C, 789\", \"email\": \"pedro.c@email.com\", \"telefone\": \"99555-1111\", \"dt_nasc\": \"2006-07-01\", \"foto\": \"caminho/foto_pedro.jpg\"}\n",
        "]\n",
        "\n",
        "# Representação conceitual da entidade Curso\n",
        "cursos = [\n",
        "    {\"sigla_curso\": \"DIR\", \"nome_curso\": \"Direito\"},\n",
        "    {\"sigla_curso\": \"VET\", \"nome_curso\": \"Veterinária\"},\n",
        "    {\"sigla_curso\": \"ENG\", \"nome_curso\": \"Engenharia\"}\n",
        "]\n",
        "\n",
        "# Representação conceitual da entidade Disciplina\n",
        "disciplinas = [\n",
        "    {\"codigo_disciplina\": \"MAT001\", \"nome\": \"Matemática Discreta\", \"carga_horaria\": 60},\n",
        "    {\"codigo_disciplina\": \"PORT001\", \"nome\": \"Língua Portuguesa\", \"carga_horaria\": 40},\n",
        "    {\"codigo_disciplina\": \"FIS001\", \"nome\": \"Física I\", \"carga_horaria\": 80}\n",
        "]\n",
        "\n",
        "# Representação conceitual da entidade Horário (com chaves estrangeiras)\n",
        "horarios = [\n",
        "    {\"codigo_horario\": \"H001\", \"horario\": \"08:00\", \"sala\": \"201A\", \"sigla_curso\": \"ENG\", \"codigo_disciplina\": \"FIS001\"},\n",
        "    {\"codigo_horario\": \"H002\", \"horario\": \"10:00\", \"sala\": \"305B\", \"sigla_curso\": \"DIR\", \"codigo_disciplina\": \"PORT001\"},\n",
        "    {\"codigo_horario\": \"H003\", \"horario\": \"14:00\", \"sala\": \"102C\", \"sigla_curso\": \"VET\", \"codigo_disciplina\": \"MAT001\"}\n",
        "]\n",
        "\n",
        "# Exemplo de como acessar os dados\n",
        "print(\"Lista de Alunos:\")\n",
        "for aluno in alunos:\n",
        "    print(aluno)\n",
        "\n",
        "print(\"\\nLista de Cursos:\")\n",
        "for curso in cursos:\n",
        "    print(curso)\n",
        "\n",
        "print(\"\\nLista de Horários:\")\n",
        "for horario in horarios:\n",
        "    print(horario)\n",
        ""
      ],
      "metadata": {
        "colab": {
          "base_uri": "https://localhost:8080/"
        },
        "id": "4ZUVDz68q5rM",
        "outputId": "7bda2514-9beb-458b-f17d-b3ce957646e2"
      },
      "execution_count": 2,
      "outputs": [
        {
          "output_type": "stream",
          "name": "stdout",
          "text": [
            "Lista de Alunos:\n",
            "{'matricula_aluno': '2023001', 'nome': 'João Silva', 'endereco': 'Rua A, 123', 'email': 'joao.s@email.com', 'telefone': '99123-4567', 'dt_nasc': '2005-01-15', 'foto': 'caminho/foto_joao.jpg'}\n",
            "{'matricula_aluno': '2023002', 'nome': 'Maria Souza', 'endereco': 'Av. B, 456', 'email': 'maria.s@email.com', 'telefone': '99876-5432', 'dt_nasc': '2004-03-20', 'foto': 'caminho/foto_maria.jpg'}\n",
            "{'matricula_aluno': '2023003', 'nome': 'Pedro Costa', 'endereco': 'Rua C, 789', 'email': 'pedro.c@email.com', 'telefone': '99555-1111', 'dt_nasc': '2006-07-01', 'foto': 'caminho/foto_pedro.jpg'}\n",
            "\n",
            "Lista de Cursos:\n",
            "{'sigla_curso': 'DIR', 'nome_curso': 'Direito'}\n",
            "{'sigla_curso': 'VET', 'nome_curso': 'Veterinária'}\n",
            "{'sigla_curso': 'ENG', 'nome_curso': 'Engenharia'}\n",
            "\n",
            "Lista de Horários:\n",
            "{'codigo_horario': 'H001', 'horario': '08:00', 'sala': '201A', 'sigla_curso': 'ENG', 'codigo_disciplina': 'FIS001'}\n",
            "{'codigo_horario': 'H002', 'horario': '10:00', 'sala': '305B', 'sigla_curso': 'DIR', 'codigo_disciplina': 'PORT001'}\n",
            "{'codigo_horario': 'H003', 'horario': '14:00', 'sala': '102C', 'sigla_curso': 'VET', 'codigo_disciplina': 'MAT001'}\n"
          ]
        }
      ]
    }
  ]
}